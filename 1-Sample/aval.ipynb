{
 "cells": [
  {
   "cell_type": "code",
   "execution_count": 4,
   "id": "a6da1105",
   "metadata": {},
   "outputs": [
    {
     "name": "stderr",
     "output_type": "stream",
     "text": [
      "/var/folders/5y/0szcmfss733cjc3_cyqw8lj80000gn/T/ipykernel_75851/315898406.py:3: DtypeWarning: Columns (527,529,532,563) have mixed types. Specify dtype option on import or set low_memory=False.\n",
      "  df = pd.read_csv('EnaniDS.csv')\n"
     ]
    },
    {
     "data": {
      "text/plain": [
       "(14558, 741)"
      ]
     },
     "execution_count": 4,
     "metadata": {},
     "output_type": "execute_result"
    }
   ],
   "source": [
    "import pandas as pd\n",
    "\n",
    "df = pd.read_csv('EnaniDS.csv')\n",
    "\n",
    "df.shape"
   ]
  }
 ],
 "metadata": {
  "kernelspec": {
   "display_name": "pycaret_env",
   "language": "python",
   "name": "python3"
  },
  "language_info": {
   "codemirror_mode": {
    "name": "ipython",
    "version": 3
   },
   "file_extension": ".py",
   "mimetype": "text/x-python",
   "name": "python",
   "nbconvert_exporter": "python",
   "pygments_lexer": "ipython3",
   "version": "3.8.18"
  }
 },
 "nbformat": 4,
 "nbformat_minor": 5
}
