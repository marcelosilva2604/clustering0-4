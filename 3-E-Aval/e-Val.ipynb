{
 "cells": [
  {
   "cell_type": "code",
   "execution_count": 1,
   "id": "70096424",
   "metadata": {},
   "outputs": [
    {
     "name": "stdout",
     "output_type": "stream",
     "text": [
      "Results have been written to: /Users/marcelosilva/Desktop/clustering(0-4)/3-E-Aval/variables_description.txt\n"
     ]
    },
    {
     "name": "stderr",
     "output_type": "stream",
     "text": [
      "/opt/anaconda3/envs/pycaret_env/lib/python3.8/site-packages/openpyxl/worksheet/_reader.py:329: UserWarning: Unknown extension is not supported and will be removed\n",
      "  warn(msg)\n"
     ]
    }
   ],
   "source": [
    "import pandas as pd\n",
    "import os\n",
    "\n",
    "# Read the dataset\n",
    "dataset_path = '/Users/marcelosilva/Desktop/clustering(0-4)/2-E-Choice/DatasetE.csv'\n",
    "dict_path = '/Users/marcelosilva/Desktop/clustering(0-4)/4-Dicionario-ENANI-2019 (1).xlsx'\n",
    "output_dir = '/Users/marcelosilva/Desktop/clustering(0-4)/3-E-Aval'\n",
    "\n",
    "# Read both files\n",
    "dataset_e = pd.read_csv(dataset_path)\n",
    "dictionary = pd.read_excel(dict_path)\n",
    "\n",
    "# Get dataset column names\n",
    "dataset_vars = dataset_e.columns.tolist()\n",
    "\n",
    "# Create output file path\n",
    "output_file = os.path.join(output_dir, 'variables_description.txt')\n",
    "\n",
    "# Open file to write results\n",
    "with open(output_file, 'w', encoding='utf-8') as f:\n",
    "    f.write(\"Variables in DatasetE and their descriptions:\\n\\n\")\n",
    "    \n",
    "    # Check each variable from dataset against dictionary\n",
    "    for var in dataset_vars:\n",
    "        # Look for variable in dictionary\n",
    "        match = dictionary[dictionary['variavel'].str.lower() == var.lower()]\n",
    "        \n",
    "        if not match.empty:\n",
    "            desc = match['descricao'].iloc[0]\n",
    "            f.write(f\"Variable: {var}\\n\")\n",
    "            f.write(f\"Description: {desc}\\n\")\n",
    "            f.write(\"-\" * 50 + \"\\n\")\n",
    "\n",
    "print(f\"Results have been written to: {output_file}\")"
   ]
  },
  {
   "cell_type": "code",
   "execution_count": 3,
   "id": "8b26d4ef",
   "metadata": {},
   "outputs": [
    {
     "name": "stdout",
     "output_type": "stream",
     "text": [
      "       id_anon e01_leite_peito e02_agua e03_filtrada_fervida  \\\n",
      "0  10951000402             Não      Sim                  Não   \n",
      "1  10951000403             Não      Sim                  Não   \n",
      "2  10951003402             Não      Sim                  Não   \n",
      "3  10951003403             Não      Sim                  Não   \n",
      "4  10951009202             Sim      Sim                  Não   \n",
      "\n",
      "  e04_agua_com_acucar e05_cha e06_leite_vaca_po e07_leite_vaca_liquido  \\\n",
      "0                 Não     Não               Não                    Sim   \n",
      "1                 Não     Não               Não                    Não   \n",
      "2                 Não     Não               Não                    Sim   \n",
      "3                 Não     Não               Não                    Não   \n",
      "4                 Não     Não               Não                    Não   \n",
      "\n",
      "  e08_leite_soja_po e09_leite_soja_liquido  ... e31_salgadinhos  \\\n",
      "0               Não                    Não  ...             Não   \n",
      "1               Não                    Não  ...             Não   \n",
      "2               Não                    Não  ...             Sim   \n",
      "3               Não                    Não  ...             Não   \n",
      "4               Não                    Não  ...             Sim   \n",
      "\n",
      "  e32_suco_industrializado e33_refrigerante  e34_macarrao e35_biscoito  \\\n",
      "0                      Não              Sim           Não          Sim   \n",
      "1                      Não              Sim           Não          Não   \n",
      "2                      Sim              Sim           Não          Sim   \n",
      "3                      Sim              Não           Não          Sim   \n",
      "4                      Sim              Não           Não          Sim   \n",
      "\n",
      "  e36_bala  e37_tempero e38_farinhas e39_mamadeira e40_adocado  \n",
      "0      Sim          Não          Não           Sim         Sim  \n",
      "1      Sim          Não          Não           Não         Não  \n",
      "2      Não          Não          Sim           Não         Não  \n",
      "3      Não          Não          Não           Não         Sim  \n",
      "4      Não          Sim          Não           Não         Não  \n",
      "\n",
      "[5 rows x 52 columns]\n"
     ]
    }
   ],
   "source": [
    "df = pd.read_csv('/Users/marcelosilva/Desktop/clustering(0-4)/2-E-Choice/DatasetE.csv')\n",
    "\n",
    "print(df.head())"
   ]
  },
  {
   "cell_type": "code",
   "execution_count": 4,
   "id": "9e0f8522",
   "metadata": {},
   "outputs": [
    {
     "name": "stdout",
     "output_type": "stream",
     "text": [
      "DataFrame Info with Completeness Analysis:\n",
      "---------------------------------------------------------------------------\n",
      "Total Rows: 14558\n",
      "Total Columns: 52\n",
      "\n",
      "Column Details:\n",
      "---------------------------------------------------------------------------\n",
      "id_anon                 14558 non-null int64      (100.0% complete)\n",
      "e01_leite_peito         14558 non-null object     (100.0% complete)\n",
      "e02_agua                14558 non-null object     (100.0% complete)\n",
      "e03_filtrada_fervida    12817 non-null object     (88.04% complete) •\n",
      "e04_agua_com_acucar     12817 non-null object     (88.04% complete) •\n",
      "e05_cha                 14558 non-null object     (100.0% complete)\n",
      "e06_leite_vaca_po       14558 non-null object     (100.0% complete)\n",
      "e07_leite_vaca_liquido    14558 non-null object     (100.0% complete)\n",
      "e08_leite_soja_po       14558 non-null object     (100.0% complete)\n",
      "e09_leite_soja_liquido    14558 non-null object     (100.0% complete)\n",
      "e10_formula_infantil    14558 non-null object     (100.0% complete)\n",
      "e11_suco                14558 non-null object     (100.0% complete)\n",
      "e12_fruta_inteira       14558 non-null object     (100.0% complete)\n",
      "e13_fruta_vezes          6905 non-null float64    (47.43% complete) •\n",
      "e14_manga                6905 non-null object     (47.43% complete) •\n",
      "e16_comida_sal          14558 non-null object     (100.0% complete)\n",
      "e17_sal_vezes           11952 non-null float64    (82.1% complete) •\n",
      "e18_oferecida           14558 non-null object     (100.0% complete)\n",
      "e181_pedacos            11952 non-null object     (82.1% complete) •\n",
      "e182_amassada           11952 non-null object     (82.1% complete) •\n",
      "e183_peneira            11952 non-null object     (82.1% complete) •\n",
      "e184_liquidificada      11952 non-null object     (82.1% complete) •\n",
      "e185_caldo              11952 non-null object     (82.1% complete) •\n",
      "e189_nao_sabe           11952 non-null object     (82.1% complete) •\n",
      "e19_mingau              14558 non-null object     (100.0% complete)\n",
      "e20_iogurte             14558 non-null object     (100.0% complete)\n",
      "e21_arroz               14558 non-null object     (100.0% complete)\n",
      "e211a_pao_frances       14558 non-null object     (100.0% complete)\n",
      "e212a_feito_em_casa     14558 non-null object     (100.0% complete)\n",
      "e213a_industrializado    14558 non-null object     (100.0% complete)\n",
      "e214a_nao_comeu         14558 non-null object     (100.0% complete)\n",
      "e219a_nao_sabe          14558 non-null object     (100.0% complete)\n",
      "e21a_pao                14558 non-null object     (100.0% complete)\n",
      "e22_legumes             14558 non-null object     (100.0% complete)\n",
      "e23_cenoura             14558 non-null object     (100.0% complete)\n",
      "e24_couve               14558 non-null object     (100.0% complete)\n",
      "e25_verduras            14558 non-null object     (100.0% complete)\n",
      "e26_feijao              14558 non-null object     (100.0% complete)\n",
      "e27_carne               14558 non-null object     (100.0% complete)\n",
      "e28_figado              14558 non-null object     (100.0% complete)\n",
      "e29_ovo                 14558 non-null object     (100.0% complete)\n",
      "e30_hamburger           14558 non-null object     (100.0% complete)\n",
      "e31_salgadinhos         14558 non-null object     (100.0% complete)\n",
      "e32_suco_industrializado    14558 non-null object     (100.0% complete)\n",
      "e33_refrigerante        14558 non-null object     (100.0% complete)\n",
      "e34_macarrao            14558 non-null object     (100.0% complete)\n",
      "e35_biscoito            14558 non-null object     (100.0% complete)\n",
      "e36_bala                14558 non-null object     (100.0% complete)\n",
      "e37_tempero             14558 non-null object     (100.0% complete)\n",
      "e38_farinhas            14558 non-null object     (100.0% complete)\n",
      "e39_mamadeira           14558 non-null object     (100.0% complete)\n",
      "e40_adocado             14558 non-null object     (100.0% complete)\n",
      "\n",
      "Memory Usage: 5914.3+ KB\n"
     ]
    }
   ],
   "source": [
    "import pandas_utils as pdu\n",
    "\n",
    "pdu.custom_info(df)\n"
   ]
  },
  {
   "cell_type": "code",
   "execution_count": null,
   "id": "1f8f821b",
   "metadata": {},
   "outputs": [],
   "source": []
  }
 ],
 "metadata": {
  "kernelspec": {
   "display_name": "pycaret_env",
   "language": "python",
   "name": "python3"
  },
  "language_info": {
   "codemirror_mode": {
    "name": "ipython",
    "version": 3
   },
   "file_extension": ".py",
   "mimetype": "text/x-python",
   "name": "python",
   "nbconvert_exporter": "python",
   "pygments_lexer": "ipython3",
   "version": "3.8.18"
  }
 },
 "nbformat": 4,
 "nbformat_minor": 5
}
