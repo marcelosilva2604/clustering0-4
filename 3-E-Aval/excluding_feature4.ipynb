{
 "cells": [
  {
   "cell_type": "markdown",
   "id": "9ba61cba",
   "metadata": {},
   "source": [
    "# Data Type Conversion Analysis\n",
    "\n",
    "The dataset preprocessing involved converting data types, specifically focusing on columns that were originally of type `float64`. Additionally, the following encoded categorical variables were removed as they were decoded in the dataset:\n",
    "\n",
    "- `e18_oferecida`: How food was offered to the child\n",
    "- `e21a_pao`: Type of bread consumed\n",
    "\n",
    "The following columns were converted from `float64` to `int64`:\n",
    "\n",
    "- `e04_agua_com_acucar`: Sugar water consumption\n",
    "- `e13_fruta_vezes`: Fruit consumption frequency \n",
    "- `e17_sal_vezes`: Frequency of salty food consumption\n",
    "- `e181_pedacos`: Food offered in pieces\n",
    "- `e182_amassada`: Food offered mashed\n",
    "- `e183_peneira`: Food passed through a sieve\n",
    "- `e184_liquidificada`: Liquefied food\n",
    "- `e185_caldo`: Only food broth\n",
    "- `e189_nao_sabe`: Doesn't know how food was offered\n",
    "\n",
    "All these variables were converted to `int64`, optimizing storage and processing since they represent discrete measurements."
   ]
  },
  {
   "cell_type": "code",
   "execution_count": 1,
   "id": "f87d3128",
   "metadata": {},
   "outputs": [
    {
     "name": "stdout",
     "output_type": "stream",
     "text": [
      "✅ Dataset final criado!\n",
      "   Linhas: 14,558\n",
      "   Colunas: 47\n",
      "   Tipos de dados: {dtype('int64'): 47}\n",
      "   Float convertidas para int64: ['e04_agua_com_acucar', 'e13_fruta_vezes', 'e17_sal_vezes', 'e181_pedacos', 'e182_amassada', 'e183_peneira', 'e184_liquidificada', 'e185_caldo', 'e189_nao_sabe']\n"
     ]
    }
   ],
   "source": [
    "import pandas as pd\n",
    "\n",
    "# Carregando o dataset\n",
    "df = pd.read_csv('/Users/marcelosilva/Desktop/clustering(0-4)/3-E-Aval/DSBIV.CSV')\n",
    "\n",
    "# Removendo as variáveis codificadas originais\n",
    "df_final = df.drop(columns=['e18_oferecida', 'e21a_pao'])\n",
    "\n",
    "# Convertendo TODAS as colunas float64 para int64 (mantém id_anon como int64)\n",
    "float_columns = df_final.select_dtypes(include=['float64']).columns\n",
    "for col in float_columns:\n",
    "    df_final[col] = df_final[col].astype('int64')\n",
    "\n",
    "# Salvando o dataset final\n",
    "df_final.to_csv('/Users/marcelosilva/Desktop/clustering(0-4)/3-E-Aval/DSFinal.csv', index=False)\n",
    "\n",
    "print(f\"✅ Dataset final criado!\")\n",
    "print(f\"   Linhas: {df_final.shape[0]:,}\")\n",
    "print(f\"   Colunas: {df_final.shape[1]}\")\n",
    "print(f\"   Tipos de dados: {df_final.dtypes.value_counts().to_dict()}\")\n",
    "print(f\"   Float convertidas para int64: {list(float_columns)}\")\n"
   ]
  }
 ],
 "metadata": {
  "kernelspec": {
   "display_name": "pycaret_env",
   "language": "python",
   "name": "python3"
  },
  "language_info": {
   "codemirror_mode": {
    "name": "ipython",
    "version": 3
   },
   "file_extension": ".py",
   "mimetype": "text/x-python",
   "name": "python",
   "nbconvert_exporter": "python",
   "pygments_lexer": "ipython3",
   "version": "3.8.18"
  }
 },
 "nbformat": 4,
 "nbformat_minor": 5
}
