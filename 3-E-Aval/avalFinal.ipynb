{
 "cells": [
  {
   "cell_type": "code",
   "execution_count": 1,
   "id": "c0d07690",
   "metadata": {},
   "outputs": [
    {
     "name": "stdout",
     "output_type": "stream",
     "text": [
      "DataFrame Info with Completeness Analysis:\n",
      "---------------------------------------------------------------------------\n",
      "Total Rows: 14558\n",
      "Total Columns: 47\n",
      "\n",
      "Column Details:\n",
      "---------------------------------------------------------------------------\n",
      "id_anon                 14558 non-null int64      (100.0% complete)\n",
      "e01_leite_peito         14558 non-null int64      (100.0% complete)\n",
      "e02_agua                14558 non-null int64      (100.0% complete)\n",
      "e04_agua_com_acucar     14558 non-null int64      (100.0% complete)\n",
      "e05_cha                 14558 non-null int64      (100.0% complete)\n",
      "e06_leite_vaca_po       14558 non-null int64      (100.0% complete)\n",
      "e07_leite_vaca_liquido    14558 non-null int64      (100.0% complete)\n",
      "e08_leite_soja_po       14558 non-null int64      (100.0% complete)\n",
      "e09_leite_soja_liquido    14558 non-null int64      (100.0% complete)\n",
      "e10_formula_infantil    14558 non-null int64      (100.0% complete)\n",
      "e11_suco                14558 non-null int64      (100.0% complete)\n",
      "e12_fruta_inteira       14558 non-null int64      (100.0% complete)\n",
      "e13_fruta_vezes         14558 non-null int64      (100.0% complete)\n",
      "e16_comida_sal          14558 non-null int64      (100.0% complete)\n",
      "e17_sal_vezes           14558 non-null int64      (100.0% complete)\n",
      "e181_pedacos            14558 non-null int64      (100.0% complete)\n",
      "e182_amassada           14558 non-null int64      (100.0% complete)\n",
      "e183_peneira            14558 non-null int64      (100.0% complete)\n",
      "e184_liquidificada      14558 non-null int64      (100.0% complete)\n",
      "e185_caldo              14558 non-null int64      (100.0% complete)\n",
      "e189_nao_sabe           14558 non-null int64      (100.0% complete)\n",
      "e19_mingau              14558 non-null int64      (100.0% complete)\n",
      "e20_iogurte             14558 non-null int64      (100.0% complete)\n",
      "e21_arroz               14558 non-null int64      (100.0% complete)\n",
      "e211a_pao_frances       14558 non-null int64      (100.0% complete)\n",
      "e212a_feito_em_casa     14558 non-null int64      (100.0% complete)\n",
      "e213a_industrializado    14558 non-null int64      (100.0% complete)\n",
      "e214a_nao_comeu         14558 non-null int64      (100.0% complete)\n",
      "e22_legumes             14558 non-null int64      (100.0% complete)\n",
      "e23_cenoura             14558 non-null int64      (100.0% complete)\n",
      "e24_couve               14558 non-null int64      (100.0% complete)\n",
      "e25_verduras            14558 non-null int64      (100.0% complete)\n",
      "e26_feijao              14558 non-null int64      (100.0% complete)\n",
      "e27_carne               14558 non-null int64      (100.0% complete)\n",
      "e28_figado              14558 non-null int64      (100.0% complete)\n",
      "e29_ovo                 14558 non-null int64      (100.0% complete)\n",
      "e30_hamburger           14558 non-null int64      (100.0% complete)\n",
      "e31_salgadinhos         14558 non-null int64      (100.0% complete)\n",
      "e32_suco_industrializado    14558 non-null int64      (100.0% complete)\n",
      "e33_refrigerante        14558 non-null int64      (100.0% complete)\n",
      "e34_macarrao            14558 non-null int64      (100.0% complete)\n",
      "e35_biscoito            14558 non-null int64      (100.0% complete)\n",
      "e36_bala                14558 non-null int64      (100.0% complete)\n",
      "e37_tempero             14558 non-null int64      (100.0% complete)\n",
      "e38_farinhas            14558 non-null int64      (100.0% complete)\n",
      "e39_mamadeira           14558 non-null int64      (100.0% complete)\n",
      "e40_adocado             14558 non-null int64      (100.0% complete)\n",
      "\n",
      "Memory Usage: 5345.6+ KB\n"
     ]
    }
   ],
   "source": [
    "import pandas as pd\n",
    "import pandas_utils as pdu\n",
    "\n",
    "df = pd.read_csv('/Users/marcelosilva/Desktop/clustering(0-4)/3-E-Aval/DSFinal.csv')\n",
    "\n",
    "pdu.custom_info(df)"
   ]
  },
  {
   "cell_type": "code",
   "execution_count": null,
   "id": "4279f703",
   "metadata": {},
   "outputs": [],
   "source": []
  }
 ],
 "metadata": {
  "kernelspec": {
   "display_name": "pycaret_env",
   "language": "python",
   "name": "python3"
  },
  "language_info": {
   "codemirror_mode": {
    "name": "ipython",
    "version": 3
   },
   "file_extension": ".py",
   "mimetype": "text/x-python",
   "name": "python",
   "nbconvert_exporter": "python",
   "pygments_lexer": "ipython3",
   "version": "3.8.18"
  }
 },
 "nbformat": 4,
 "nbformat_minor": 5
}
